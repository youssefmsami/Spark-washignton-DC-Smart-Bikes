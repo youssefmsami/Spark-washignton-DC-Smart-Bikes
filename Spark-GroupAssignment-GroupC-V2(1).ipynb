{
 "cells": [
  {
   "cell_type": "code",
   "execution_count": 1,
   "metadata": {},
   "outputs": [
    {
     "name": "stdout",
     "output_type": "stream",
     "text": [
      "/usr/share/spark\n"
     ]
    }
   ],
   "source": [
    "import os\n",
    "\n",
    "print(os.environ['SPARK_HOME'])"
   ]
  },
  {
   "cell_type": "markdown",
   "metadata": {},
   "source": [
    "# Build a predictive model capable of predicting the total number of bike rentals per hour for agiven weekday. \n",
    "Note: you may also want to add weather information to improve model\n",
    "accuracy, i.e , be able to predict nb of bike rentals per hour for weekday and weather\n",
    "conditions , or even add more features ( like e.g. : bank holidays information )"
   ]
  },
  {
   "cell_type": "code",
   "execution_count": 2,
   "metadata": {},
   "outputs": [],
   "source": [
    "import findspark\n",
    "findspark.init()\n",
    "import pyspark\n",
    "import matplotlib.pyplot as plt\n",
    "import seaborn as sns\n",
    "from sklearn import preprocessing\n",
    "from datetime import datetime\n",
    "from pyspark.sql.functions import col, udf,to_date,unix_timestamp,from_unixtime\n",
    "from pyspark.sql.types import DateType\n",
    "from pyspark.sql.functions import date_format\n",
    "from pyspark.sql.functions import year, month, dayofmonth, hour"
   ]
  },
  {
   "cell_type": "code",
   "execution_count": 3,
   "metadata": {},
   "outputs": [],
   "source": [
    "from pyspark.sql import SparkSession\n",
    "spark = SparkSession \\\n",
    "    .builder \\\n",
    "    .master(\"spark://data1p:7077\") \\\n",
    "    .appName(\"Final-Assignment-Group3-BikeRental\") \\\n",
    "    .getOrCreate()"
   ]
  },
  {
   "cell_type": "code",
   "execution_count": 4,
   "metadata": {},
   "outputs": [],
   "source": [
    "dataset_path=\"/data/shared/spark/challenge_3/\""
   ]
  },
  {
   "cell_type": "code",
   "execution_count": 5,
   "metadata": {},
   "outputs": [],
   "source": [
    "# Read in all available data files into a data frame\n",
    "df = spark.read \\\n",
    "    .option(\"header\", \"true\") \\\n",
    "    .option(\"inferSchema\", \"true\") \\\n",
    "    .csv(\"file://\"+dataset_path+\"20*.csv\")    "
   ]
  },
  {
   "cell_type": "code",
   "execution_count": 6,
   "metadata": {},
   "outputs": [
    {
     "name": "stdout",
     "output_type": "stream",
     "text": [
      "root\n",
      " |-- Duration (ms): integer (nullable = true)\n",
      " |-- Start date: timestamp (nullable = true)\n",
      " |-- End date: timestamp (nullable = true)\n",
      " |-- Start station number: string (nullable = true)\n",
      " |-- Start station: string (nullable = true)\n",
      " |-- End station number: string (nullable = true)\n",
      " |-- End station: string (nullable = true)\n",
      " |-- Bike number: string (nullable = true)\n",
      " |-- Member type: string (nullable = true)\n",
      "\n"
     ]
    }
   ],
   "source": [
    "df.printSchema()"
   ]
  },
  {
   "cell_type": "code",
   "execution_count": 7,
   "metadata": {
    "scrolled": true
   },
   "outputs": [
    {
     "data": {
      "text/plain": [
       "19120900"
      ]
     },
     "execution_count": 7,
     "metadata": {},
     "output_type": "execute_result"
    }
   ],
   "source": [
    "df.count()"
   ]
  },
  {
   "cell_type": "markdown",
   "metadata": {},
   "source": [
    "Seperate Date and time from Start Date"
   ]
  },
  {
   "cell_type": "code",
   "execution_count": 8,
   "metadata": {},
   "outputs": [],
   "source": [
    "import pyspark.sql.functions as F\n",
    "split_col = pyspark.sql.functions.split(df['Start date'], ' ')\n",
    "df = df.withColumn('Date', split_col.getItem(0))"
   ]
  },
  {
   "cell_type": "code",
   "execution_count": 9,
   "metadata": {},
   "outputs": [],
   "source": [
    "split_col = pyspark.sql.functions.split(df['Start date'], ' ')\n",
    "df = df.withColumn('Time', split_col.getItem(1))"
   ]
  },
  {
   "cell_type": "code",
   "execution_count": 10,
   "metadata": {
    "scrolled": true
   },
   "outputs": [
    {
     "name": "stdout",
     "output_type": "stream",
     "text": [
      "root\n",
      " |-- Duration (ms): integer (nullable = true)\n",
      " |-- Start date: timestamp (nullable = true)\n",
      " |-- End date: timestamp (nullable = true)\n",
      " |-- Start station number: string (nullable = true)\n",
      " |-- Start station: string (nullable = true)\n",
      " |-- End station number: string (nullable = true)\n",
      " |-- End station: string (nullable = true)\n",
      " |-- Bike number: string (nullable = true)\n",
      " |-- Member type: string (nullable = true)\n",
      " |-- Date: string (nullable = true)\n",
      " |-- Time: string (nullable = true)\n",
      "\n"
     ]
    }
   ],
   "source": [
    "df.printSchema()"
   ]
  },
  {
   "cell_type": "code",
   "execution_count": 11,
   "metadata": {},
   "outputs": [
    {
     "name": "stdout",
     "output_type": "stream",
     "text": [
      "root\n",
      " |-- Duration (ms): integer (nullable = true)\n",
      " |-- Start date: timestamp (nullable = true)\n",
      " |-- End date: timestamp (nullable = true)\n",
      " |-- Start station number: string (nullable = true)\n",
      " |-- Start station: string (nullable = true)\n",
      " |-- End station number: string (nullable = true)\n",
      " |-- End station: string (nullable = true)\n",
      " |-- Bike number: string (nullable = true)\n",
      " |-- Member type: string (nullable = true)\n",
      " |-- Date: date (nullable = true)\n",
      " |-- Time: timestamp (nullable = true)\n",
      "\n"
     ]
    }
   ],
   "source": [
    "df=df.withColumn(\"Date\",col(\"Date\").cast(\"date\"))\n",
    "df=df.withColumn(\"Time\",col(\"Time\").cast(\"timestamp\"))\n",
    "df.printSchema()"
   ]
  },
  {
   "cell_type": "code",
   "execution_count": 12,
   "metadata": {},
   "outputs": [],
   "source": [
    "df = df.select('Date','Time','Duration (ms)','Start station','End station','Member type')"
   ]
  },
  {
   "cell_type": "code",
   "execution_count": 13,
   "metadata": {},
   "outputs": [
    {
     "name": "stdout",
     "output_type": "stream",
     "text": [
      "root\n",
      " |-- Date: date (nullable = true)\n",
      " |-- Time: timestamp (nullable = true)\n",
      " |-- Duration (ms): integer (nullable = true)\n",
      " |-- Start station: string (nullable = true)\n",
      " |-- End station: string (nullable = true)\n",
      " |-- Member type: string (nullable = true)\n",
      "\n"
     ]
    }
   ],
   "source": [
    "df.printSchema()"
   ]
  },
  {
   "cell_type": "markdown",
   "metadata": {},
   "source": [
    "# Import Weather Data"
   ]
  },
  {
   "cell_type": "code",
   "execution_count": 14,
   "metadata": {
    "scrolled": true
   },
   "outputs": [
    {
     "name": "stdout",
     "output_type": "stream",
     "text": [
      "root\n",
      " |-- Site4: string (nullable = true)\n",
      " |-- Date: string (nullable = true)\n",
      " |-- Source: string (nullable = true)\n",
      " |-- Max Temp: integer (nullable = true)\n",
      " |-- Avg Temp: integer (nullable = true)\n",
      " |-- HDDs: double (nullable = true)\n",
      " |-- CDDs: double (nullable = true)\n",
      " |-- Precipitation: double (nullable = true)\n",
      " |-- Snowfall: double (nullable = true)\n",
      " |-- Snow/Ice: double (nullable = true)\n",
      " |-- _c10: double (nullable = true)\n",
      "\n"
     ]
    }
   ],
   "source": [
    "df2 = spark.read \\\n",
    "    .option(\"inferSchema\", \"true\") \\\n",
    "    .csv(\"file://\"+dataset_path+\"weather_data_daily.csv\")\n",
    "    \n",
    "features=[ \"Site4\",\"Date\",\"Source\", \n",
    "            \"Max Temp\",\"Avg Temp\",\"HDDs\", \\\n",
    "            \"CDDs\",\"Precipitation\", \\\n",
    "            \"Snowfall\",\"Snow/Ice\"]\n",
    "#target=[\"median_value\"]\n",
    "\n",
    "fieldnames=features #+target\n",
    "\n",
    "rawnames=df2.schema.names\n",
    "\n",
    "# Create a small function\n",
    "def updateColNames(df,oldnames,newnames):\n",
    "    for i in range(len(newnames)):\n",
    "        df=df.withColumnRenamed(oldnames[i], newnames[i])\n",
    "    return df\n",
    "\n",
    "df2=updateColNames(df2,rawnames,fieldnames)\n",
    "\n",
    "df2.printSchema()"
   ]
  },
  {
   "cell_type": "code",
   "execution_count": 15,
   "metadata": {},
   "outputs": [],
   "source": [
    "split_col = pyspark.sql.functions.split(df2['Date'], ' ')\n",
    "df2 = df2.withColumn('Date', split_col.getItem(0))"
   ]
  },
  {
   "cell_type": "code",
   "execution_count": 16,
   "metadata": {},
   "outputs": [
    {
     "name": "stdout",
     "output_type": "stream",
     "text": [
      "+-----+---------+------+--------+--------+----+----+-------------+--------+--------+----+\n",
      "|Site4|     Date|Source|Max Temp|Avg Temp|HDDs|CDDs|Precipitation|Snowfall|Snow/Ice|_c10|\n",
      "+-----+---------+------+--------+--------+----+----+-------------+--------+--------+----+\n",
      "| KIAD| 1/1/2010|  NCDC|      43|      28|35.5|29.5|          0.0|     0.0|     0.0| 0.0|\n",
      "| KIAD| 1/2/2010|  NCDC|      28|      18|23.0|42.0|          0.0|     0.0|     0.0| 0.0|\n",
      "| KIAD| 1/3/2010|  NCDC|      26|      14|20.0|45.0|          0.0|     0.0|     0.0| 0.0|\n",
      "| KIAD| 1/4/2010|  NCDC|      32|      21|26.5|38.5|          0.0|     0.0|     0.0| 0.0|\n",
      "| KIAD| 1/5/2010|  NCDC|      35|      27|31.0|34.0|          0.0|     0.0|     0.0| 0.0|\n",
      "| KIAD| 1/6/2010|  NCDC|      37|      28|32.5|32.5|          0.0|  1.0E-4|   0.001| 0.0|\n",
      "| KIAD| 1/7/2010|  NCDC|      37|      28|32.5|32.5|          0.0|    0.01|     0.2| 0.0|\n",
      "| KIAD| 1/8/2010|  NCDC|      32|      22|27.0|38.0|          0.0|    0.05|     1.0| 1.0|\n",
      "| KIAD| 1/9/2010|  NCDC|      36|      22|29.0|36.0|          0.0|     0.0|     0.0| 0.0|\n",
      "| KIAD|1/10/2010|  NCDC|      31|      19|25.0|40.0|          0.0|     0.0|     0.0| 0.0|\n",
      "| KIAD|1/11/2010|  NCDC|      37|      13|25.0|40.0|          0.0|     0.0|     0.0| 0.0|\n",
      "| KIAD|1/12/2010|  NCDC|      34|      27|30.5|34.5|          0.0|     0.0|     0.0| 0.0|\n",
      "| KIAD|1/13/2010|  NCDC|      44|      23|33.5|31.5|          0.0|     0.0|     0.0| 0.0|\n",
      "| KIAD|1/14/2010|  NCDC|      53|      19|36.0|29.0|          0.0|     0.0|     0.0| 0.0|\n",
      "| KIAD|1/15/2010|  NCDC|      55|      21|38.0|27.0|          0.0|     0.0|     0.0| 0.0|\n",
      "| KIAD|1/16/2010|  NCDC|      52|      27|39.5|25.5|          0.0|     0.0|     0.0| 0.0|\n",
      "| KIAD|1/17/2010|  NCDC|      44|      35|39.5|25.5|          0.0|    0.63|     0.0| 0.0|\n",
      "| KIAD|1/18/2010|  NCDC|      55|      31|43.0|22.0|          0.0|     0.0|     0.0| 0.0|\n",
      "| KIAD|1/19/2010|  NCDC|      60|      28|44.0|21.0|          0.0|     0.0|     0.0| 0.0|\n",
      "| KIAD|1/20/2010|  NCDC|      43|      34|38.5|26.5|          0.0|    0.06|     0.0| 0.0|\n",
      "+-----+---------+------+--------+--------+----+----+-------------+--------+--------+----+\n",
      "only showing top 20 rows\n",
      "\n"
     ]
    }
   ],
   "source": [
    "df2.show()"
   ]
  },
  {
   "cell_type": "markdown",
   "metadata": {},
   "source": [
    "# Merge both Data Sets by date"
   ]
  },
  {
   "cell_type": "code",
   "execution_count": 17,
   "metadata": {
    "scrolled": true
   },
   "outputs": [],
   "source": [
    "df2 = df2.select('Date','Avg Temp','Precipitation', from_unixtime(unix_timestamp('Date', 'MM/dd/yyy')).alias('date2'))\n"
   ]
  },
  {
   "cell_type": "code",
   "execution_count": 18,
   "metadata": {
    "scrolled": true
   },
   "outputs": [
    {
     "name": "stdout",
     "output_type": "stream",
     "text": [
      "+----------+--------+-------------+\n",
      "|     date2|Avg Temp|Precipitation|\n",
      "+----------+--------+-------------+\n",
      "|2010-01-01|      28|          0.0|\n",
      "|2010-01-02|      18|          0.0|\n",
      "|2010-01-03|      14|          0.0|\n",
      "|2010-01-04|      21|          0.0|\n",
      "|2010-01-05|      27|          0.0|\n",
      "|2010-01-06|      28|          0.0|\n",
      "|2010-01-07|      28|          0.0|\n",
      "|2010-01-08|      22|          0.0|\n",
      "|2010-01-09|      22|          0.0|\n",
      "|2010-01-10|      19|          0.0|\n",
      "|2010-01-11|      13|          0.0|\n",
      "|2010-01-12|      27|          0.0|\n",
      "|2010-01-13|      23|          0.0|\n",
      "|2010-01-14|      19|          0.0|\n",
      "|2010-01-15|      21|          0.0|\n",
      "|2010-01-16|      27|          0.0|\n",
      "|2010-01-17|      35|          0.0|\n",
      "|2010-01-18|      31|          0.0|\n",
      "|2010-01-19|      28|          0.0|\n",
      "|2010-01-20|      34|          0.0|\n",
      "+----------+--------+-------------+\n",
      "only showing top 20 rows\n",
      "\n"
     ]
    }
   ],
   "source": [
    "split_col = pyspark.sql.functions.split(df2['date2'], ' ')\n",
    "df2 = df2.withColumn('date2', split_col.getItem(0))\n",
    "df2 = df2.select('date2','Avg Temp','Precipitation')\n",
    "df2.show()"
   ]
  },
  {
   "cell_type": "code",
   "execution_count": 19,
   "metadata": {},
   "outputs": [
    {
     "name": "stdout",
     "output_type": "stream",
     "text": [
      "root\n",
      " |-- Date: date (nullable = true)\n",
      " |-- Time: timestamp (nullable = true)\n",
      " |-- Duration (ms): integer (nullable = true)\n",
      " |-- Start station: string (nullable = true)\n",
      " |-- End station: string (nullable = true)\n",
      " |-- Member type: string (nullable = true)\n",
      " |-- date2: string (nullable = true)\n",
      " |-- Avg Temp: integer (nullable = true)\n",
      " |-- Precipitation: double (nullable = true)\n",
      "\n"
     ]
    }
   ],
   "source": [
    "Trips_Weather = df.join(df2, df.Date == df2.date2)\n",
    "Trips_Weather.printSchema()"
   ]
  },
  {
   "cell_type": "code",
   "execution_count": 20,
   "metadata": {
    "scrolled": false
   },
   "outputs": [
    {
     "name": "stdout",
     "output_type": "stream",
     "text": [
      "root\n",
      " |-- Date: date (nullable = true)\n",
      " |-- Time: timestamp (nullable = true)\n",
      " |-- Duration (ms): integer (nullable = true)\n",
      " |-- Start station: string (nullable = true)\n",
      " |-- End station: string (nullable = true)\n",
      " |-- Member type: string (nullable = true)\n",
      " |-- date2: string (nullable = true)\n",
      " |-- Avg Temp: integer (nullable = true)\n",
      " |-- Precipitation: double (nullable = true)\n",
      "\n"
     ]
    }
   ],
   "source": [
    "Trips_Weather.select('Date','Time','Duration (ms)','Start station','End station','Member type','Avg Temp','Precipitation')\n",
    "Trips_Weather.printSchema()"
   ]
  },
  {
   "cell_type": "markdown",
   "metadata": {},
   "source": [
    "Monday:1 to sunday:7"
   ]
  },
  {
   "cell_type": "code",
   "execution_count": 21,
   "metadata": {},
   "outputs": [],
   "source": [
    "Trips_ML=Trips_Weather.select(date_format('Date', 'u').alias('dow_number'),year(\"Date\").alias('year'),month(\"Date\").alias('month')\n",
    "                         , dayofmonth(\"Date\").alias('day'),hour(\"Time\").alias('hour'),'Duration (ms)'\n",
    "                         ,'Start station','End Station','Member type','Avg Temp','Precipitation')\n"
   ]
  },
  {
   "cell_type": "markdown",
   "metadata": {},
   "source": [
    "# Transform to Pandas for data inspections"
   ]
  },
  {
   "cell_type": "code",
   "execution_count": 22,
   "metadata": {},
   "outputs": [],
   "source": [
    "pd_df=Trips_ML.filter(Trips_ML['year']==2017).toPandas()"
   ]
  },
  {
   "cell_type": "markdown",
   "metadata": {},
   "source": [
    "Load Station Data from XML file"
   ]
  },
  {
   "cell_type": "code",
   "execution_count": 23,
   "metadata": {},
   "outputs": [],
   "source": [
    "import pandas as pd\n",
    "import xml.etree.cElementTree as et\n",
    "parsedXML = et.parse( \"stations_data.xml\" )\n",
    "dfcols = ['name', 'lat', 'long']\n",
    "df_xml = pd.DataFrame(columns=dfcols)"
   ]
  },
  {
   "cell_type": "code",
   "execution_count": 24,
   "metadata": {},
   "outputs": [],
   "source": [
    "root = parsedXML.getroot()"
   ]
  },
  {
   "cell_type": "code",
   "execution_count": 25,
   "metadata": {
    "scrolled": true
   },
   "outputs": [],
   "source": [
    "for i in range(len(root.getchildren())):\n",
    "    obj = root.getchildren()[i].getchildren()\n",
    "    row = dict(zip(['name', 'lat', 'long'], [obj[1].text, obj[4].text, obj[5].text]))\n",
    "    row_s = pd.Series(row)\n",
    "    row_s.name = i\n",
    "    df_xml= df_xml.append(row_s)"
   ]
  },
  {
   "cell_type": "code",
   "execution_count": 26,
   "metadata": {
    "scrolled": true
   },
   "outputs": [
    {
     "name": "stdout",
     "output_type": "stream",
     "text": [
      "<class 'pandas.core.frame.DataFrame'>\n",
      "Int64Index: 490 entries, 0 to 489\n",
      "Data columns (total 3 columns):\n",
      "name    490 non-null object\n",
      "lat     490 non-null object\n",
      "long    490 non-null object\n",
      "dtypes: object(3)\n",
      "memory usage: 15.3+ KB\n"
     ]
    }
   ],
   "source": [
    "df_xml.info()"
   ]
  },
  {
   "cell_type": "code",
   "execution_count": 27,
   "metadata": {},
   "outputs": [],
   "source": [
    "stations=pd_df.merge(df_xml, left_on='Start station', right_on='name', how='inner')"
   ]
  },
  {
   "cell_type": "code",
   "execution_count": 28,
   "metadata": {
    "scrolled": false
   },
   "outputs": [
    {
     "name": "stdout",
     "output_type": "stream",
     "text": [
      "<class 'pandas.core.frame.DataFrame'>\n",
      "Int64Index: 3758151 entries, 0 to 3758150\n",
      "Data columns (total 14 columns):\n",
      "dow_number       object\n",
      "year             int64\n",
      "month            int64\n",
      "day              int64\n",
      "hour             int64\n",
      "Duration (ms)    int64\n",
      "Start station    object\n",
      "End Station      object\n",
      "Member type      object\n",
      "Avg Temp         int64\n",
      "Precipitation    float64\n",
      "name             object\n",
      "lat              object\n",
      "long             object\n",
      "dtypes: float64(1), int64(6), object(7)\n",
      "memory usage: 430.1+ MB\n"
     ]
    }
   ],
   "source": [
    "stations.info()"
   ]
  },
  {
   "cell_type": "code",
   "execution_count": 29,
   "metadata": {},
   "outputs": [],
   "source": [
    "stations=stations.rename(columns = {'Start station':'station'})"
   ]
  },
  {
   "cell_type": "code",
   "execution_count": 30,
   "metadata": {},
   "outputs": [],
   "source": [
    "sttaions_count=stations.groupby(['station','lat','long'], as_index=False).agg({'day':'count'})"
   ]
  },
  {
   "cell_type": "markdown",
   "metadata": {},
   "source": [
    "Number of rides per member Type"
   ]
  },
  {
   "cell_type": "code",
   "execution_count": 31,
   "metadata": {},
   "outputs": [],
   "source": [
    "bike_trips=pd_df"
   ]
  },
  {
   "cell_type": "code",
   "execution_count": 32,
   "metadata": {},
   "outputs": [
    {
     "data": {
      "text/plain": [
       "<matplotlib.axes._subplots.AxesSubplot at 0x7f7a9fa68a90>"
      ]
     },
     "execution_count": 32,
     "metadata": {},
     "output_type": "execute_result"
    },
    {
     "data": {
      "image/png": "[encoded data removed]",
      "text/plain": [
       "<matplotlib.figure.Figure at 0x7f7a58369860>"
      ]
     },
     "metadata": {},
     "output_type": "display_data"
    }
   ],
   "source": [
    "palette=[sns.color_palette()[0],sns.color_palette()[2],sns.color_palette()[1]]\n",
    "bike_trips['Member type'].value_counts().plot(kind='barh', color=palette)"
   ]
  },
  {
   "cell_type": "markdown",
   "metadata": {},
   "source": [
    "Number of Rides per month"
   ]
  },
  {
   "cell_type": "code",
   "execution_count": 33,
   "metadata": {},
   "outputs": [
    {
     "name": "stderr",
     "output_type": "stream",
     "text": [
      "/usr/lib64/python3.6/site-packages/numpy/core/fromnumeric.py:52: FutureWarning: reshape is deprecated and will raise in a subsequent release. Please use .values.reshape(...) instead\n",
      "  return getattr(obj, method)(*args, **kwds)\n"
     ]
    },
    {
     "data": {
      "image/png": "[encoded data removed]",
      "text/plain": [
       "<matplotlib.figure.Figure at 0x7f7a9fa389e8>"
      ]
     },
     "metadata": {},
     "output_type": "display_data"
    }
   ],
   "source": [
    "hist1=bike_trips[bike_trips['Member type'] == 'Member'].month\n",
    "hist2=bike_trips[bike_trips['Member type'] == 'Casual'].month\n",
    "\n",
    "\n",
    "n,b,p=plt.hist([hist1, hist2], stacked=True,range=[1,12], bins=12)\n",
    "plt.legend(['Member','Casual'],loc=0)\n",
    "\n",
    "plt.xlabel('Month', fontsize=18)\n",
    "plt.ylabel('Number of Rides', fontsize=18)\n",
    "sns.despine()"
   ]
  },
  {
   "cell_type": "code",
   "execution_count": 34,
   "metadata": {
    "scrolled": true
   },
   "outputs": [
    {
     "data": {
      "text/plain": [
       "<matplotlib.axes._subplots.AxesSubplot at 0x7f7a508a2f28>"
      ]
     },
     "execution_count": 34,
     "metadata": {},
     "output_type": "execute_result"
    },
    {
     "data": {
      "image/png": "[encoded data removed]",
      "text/plain": [
       "<matplotlib.figure.Figure at 0x7f7a55a08710>"
      ]
     },
     "metadata": {},
     "output_type": "display_data"
    }
   ],
   "source": [
    "bike_trips[['month']].groupby(bike_trips.month).count().plot(kind=\"bar\")"
   ]
  },
  {
   "cell_type": "code",
   "execution_count": 35,
   "metadata": {},
   "outputs": [
    {
     "data": {
      "text/plain": [
       "<matplotlib.axes._subplots.AxesSubplot at 0x7f7a4a4a9e10>"
      ]
     },
     "execution_count": 35,
     "metadata": {},
     "output_type": "execute_result"
    },
    {
     "data": {
      "image/png": "[encoded data removed]",
      "text/plain": [
       "<matplotlib.figure.Figure at 0x7f7ac5072240>"
      ]
     },
     "metadata": {},
     "output_type": "display_data"
    }
   ],
   "source": [
    "days = {1:'Mon',2:'Tues',3:'Weds',4:'Thurs',5:'Fri',6:'Sat',7:'Sun'}\n",
    "bike_trips[['dow_number']].groupby(bike_trips.dow_number).count().plot(kind=\"line\")\n"
   ]
  },
  {
   "cell_type": "code",
   "execution_count": 36,
   "metadata": {
    "scrolled": true
   },
   "outputs": [
    {
     "data": {
      "text/plain": [
       "<matplotlib.axes._subplots.AxesSubplot at 0x7f7a47967080>"
      ]
     },
     "execution_count": 36,
     "metadata": {},
     "output_type": "execute_result"
    },
    {
     "data": {
      "image/png": "[encoded data removed]",
      "text/plain": [
       "<matplotlib.figure.Figure at 0x7f7a4df54940>"
      ]
     },
     "metadata": {},
     "output_type": "display_data"
    }
   ],
   "source": [
    "bike_trips[['hour']].groupby(bike_trips.hour).count().plot(kind=\"line\")"
   ]
  },
  {
   "cell_type": "markdown",
   "metadata": {},
   "source": [
    "Stations Map"
   ]
  },
  {
   "cell_type": "code",
   "execution_count": null,
   "metadata": {},
   "outputs": [],
   "source": []
  },
  {
   "cell_type": "markdown",
   "metadata": {},
   "source": [
    "# Transform Dataset for Modeling"
   ]
  },
  {
   "cell_type": "code",
   "execution_count": 37,
   "metadata": {
    "scrolled": true
   },
   "outputs": [
    {
     "name": "stdout",
     "output_type": "stream",
     "text": [
      "root\n",
      " |-- dow_number: string (nullable = true)\n",
      " |-- year: integer (nullable = true)\n",
      " |-- month: integer (nullable = true)\n",
      " |-- day: integer (nullable = true)\n",
      " |-- hour: integer (nullable = true)\n",
      " |-- Duration (ms): integer (nullable = true)\n",
      " |-- Start station: string (nullable = true)\n",
      " |-- End Station: string (nullable = true)\n",
      " |-- Member type: string (nullable = true)\n",
      " |-- Avg Temp: integer (nullable = true)\n",
      " |-- Precipitation: double (nullable = true)\n",
      "\n"
     ]
    }
   ],
   "source": [
    "Trips_ML.printSchema()"
   ]
  },
  {
   "cell_type": "markdown",
   "metadata": {},
   "source": [
    "# Create a dummy variable for weekdays"
   ]
  },
  {
   "cell_type": "code",
   "execution_count": 38,
   "metadata": {},
   "outputs": [],
   "source": [
    "Trips_ML = Trips_ML.select('Start station','year','month','day','hour','Avg Temp','Precipitation', Trips_ML.dow_number.cast('integer').alias('dow'))"
   ]
  },
  {
   "cell_type": "code",
   "execution_count": 39,
   "metadata": {},
   "outputs": [],
   "source": [
    "from pyspark.sql.types import IntegerType\n",
    "from pyspark.sql.functions import udf\n",
    "def func(dow):\n",
    "    if dow <6:\n",
    "        return 1\n",
    "    else:\n",
    "        return 0\n",
    "\n",
    "func_udf = udf(func, IntegerType())"
   ]
  },
  {
   "cell_type": "code",
   "execution_count": 40,
   "metadata": {},
   "outputs": [],
   "source": [
    "Trips_ML = Trips_ML.withColumn('dummy',func_udf(Trips_ML['dow']))"
   ]
  },
  {
   "cell_type": "code",
   "execution_count": 41,
   "metadata": {},
   "outputs": [
    {
     "name": "stdout",
     "output_type": "stream",
     "text": [
      "root\n",
      " |-- Start station: string (nullable = true)\n",
      " |-- year: integer (nullable = true)\n",
      " |-- month: integer (nullable = true)\n",
      " |-- day: integer (nullable = true)\n",
      " |-- hour: integer (nullable = true)\n",
      " |-- Avg Temp: integer (nullable = true)\n",
      " |-- Precipitation: double (nullable = true)\n",
      " |-- dow: integer (nullable = true)\n",
      " |-- dummy: integer (nullable = true)\n",
      "\n"
     ]
    }
   ],
   "source": [
    "Trips_ML.printSchema()"
   ]
  },
  {
   "cell_type": "markdown",
   "metadata": {},
   "source": [
    "Add Public Holiday to the dummies"
   ]
  },
  {
   "cell_type": "code",
   "execution_count": 42,
   "metadata": {
    "scrolled": false
   },
   "outputs": [],
   "source": [
    "Fixed_Holidays=[[1,1],[4,7],[11,11],[25,12]]"
   ]
  },
  {
   "cell_type": "code",
   "execution_count": 43,
   "metadata": {},
   "outputs": [],
   "source": [
    "def func(dummy,month, day):\n",
    "    for i in range(len(Fixed_Holidays)):\n",
    "        if day==Fixed_Holidays[i][0] & month==Fixed_Holidays[i][1] & dummy==1:\n",
    "            return 0\n",
    "        else:\n",
    "            return dummy\n",
    "\n",
    "func_fixed = udf(func, IntegerType())"
   ]
  },
  {
   "cell_type": "code",
   "execution_count": 44,
   "metadata": {},
   "outputs": [],
   "source": [
    "Trips_ML = Trips_ML.withColumn('dummy',func_fixed(Trips_ML['dummy'],Trips_ML['month'],Trips_ML['day']))"
   ]
  },
  {
   "cell_type": "markdown",
   "metadata": {},
   "source": [
    "[Day,FirstIndex,LastIndex,Month]\n"
   ]
  },
  {
   "cell_type": "code",
   "execution_count": 45,
   "metadata": {},
   "outputs": [],
   "source": [
    "Floating_Holidays=[[1,15,21,1],[1,15,21,2],[1,25,31,5],[1,1,7,9],[1,8,14,10],[5,22,28,11]]"
   ]
  },
  {
   "cell_type": "code",
   "execution_count": 46,
   "metadata": {},
   "outputs": [],
   "source": [
    "def func(dow,dummy,month, day):\n",
    "    for i in range(len(Floating_Holidays)):\n",
    "        if dow==Floating_Holidays[i][0] & day >= Floating_Holidays[i][1] & day <= Floating_Holidays[i][2] & month==Floating_Holidays[i][3] & dummy==1:\n",
    "            return 0\n",
    "        else:\n",
    "            return dummy\n",
    "\n",
    "func_floating = udf(func, IntegerType())"
   ]
  },
  {
   "cell_type": "code",
   "execution_count": 47,
   "metadata": {},
   "outputs": [],
   "source": [
    "Trips_ML = Trips_ML.withColumn('dummy',func_floating(Trips_ML['dow'],Trips_ML['dummy'],Trips_ML['month'],Trips_ML['day']))"
   ]
  },
  {
   "cell_type": "code",
   "execution_count": 48,
   "metadata": {},
   "outputs": [
    {
     "name": "stdout",
     "output_type": "stream",
     "text": [
      "root\n",
      " |-- Start station: string (nullable = true)\n",
      " |-- year: integer (nullable = true)\n",
      " |-- month: integer (nullable = true)\n",
      " |-- day: integer (nullable = true)\n",
      " |-- hour: integer (nullable = true)\n",
      " |-- Avg Temp: integer (nullable = true)\n",
      " |-- Precipitation: double (nullable = true)\n",
      " |-- dow: integer (nullable = true)\n",
      " |-- dummy: integer (nullable = true)\n",
      "\n"
     ]
    }
   ],
   "source": [
    "Trips_ML.printSchema()"
   ]
  },
  {
   "cell_type": "markdown",
   "metadata": {},
   "source": [
    "Create final dataframe for Modeling"
   ]
  },
  {
   "cell_type": "code",
   "execution_count": 49,
   "metadata": {},
   "outputs": [],
   "source": [
    "Trips_ML=Trips_ML.select(col(\"Start station\").alias(\"station\"),col(\"dummy\").alias(\"Weekday\"),col(\"Avg Temp\").alias(\"Avg_Temp\"),col(\"Precipitation\"),col(\"hour\"))"
   ]
  },
  {
   "cell_type": "code",
   "execution_count": 50,
   "metadata": {},
   "outputs": [],
   "source": [
    "Final_data=Trips_ML.groupby([Trips_ML.Weekday,Trips_ML.Avg_Temp,Trips_ML.Precipitation,Trips_ML.hour]).count()"
   ]
  },
  {
   "cell_type": "code",
   "execution_count": 51,
   "metadata": {},
   "outputs": [
    {
     "name": "stdout",
     "output_type": "stream",
     "text": [
      "+-------+--------+-------------+----+-----+\n",
      "|Weekday|Avg_Temp|Precipitation|hour|count|\n",
      "+-------+--------+-------------+----+-----+\n",
      "|      0|      63|         10.0|  16| 2846|\n",
      "|      0|      58|          4.0|   2|  102|\n",
      "|      1|      54|          0.0|  10| 4665|\n",
      "|      1|      71|         17.0|  11| 1104|\n",
      "|      0|      38|          0.0|  15| 9494|\n",
      "|      1|      46|          0.0|   7|13984|\n",
      "|      1|      64|          6.0|   2|   16|\n",
      "|      0|      64|          2.5|   7|  126|\n",
      "|      1|      63|          8.5|   7|  810|\n",
      "|      0|      52|          1.5|   5|   23|\n",
      "|      1|      65|          8.5|   0|  128|\n",
      "|      1|      69|         13.5|  11| 1736|\n",
      "|      1|      51|          0.0|   7| 9911|\n",
      "|      1|      57|          0.0|   2|  172|\n",
      "|      1|      61|          5.0|   5|  156|\n",
      "|      0|      59|          1.5|  16|  635|\n",
      "|      0|      63|          6.5|  19| 2043|\n",
      "|      1|      65|          4.5|  11|  289|\n",
      "|      1|      57|          5.0|   1|   93|\n",
      "|      1|      57|          5.0|  21|  867|\n",
      "+-------+--------+-------------+----+-----+\n",
      "only showing top 20 rows\n",
      "\n"
     ]
    }
   ],
   "source": [
    "Final_data.show()"
   ]
  }
 ],
 "metadata": {
  "kernelspec": {
   "display_name": "PySpark",
   "language": "python",
   "name": "pyspark"
  },
  "language_info": {
   "codemirror_mode": {
    "name": "ipython",
    "version": 3
   },
   "file_extension": ".py",
   "mimetype": "text/x-python",
   "name": "python",
   "nbconvert_exporter": "python",
   "pygments_lexer": "ipython3",
   "version": "3.6.4"
  }
 },
 "nbformat": 4,
 "nbformat_minor": 2
}
